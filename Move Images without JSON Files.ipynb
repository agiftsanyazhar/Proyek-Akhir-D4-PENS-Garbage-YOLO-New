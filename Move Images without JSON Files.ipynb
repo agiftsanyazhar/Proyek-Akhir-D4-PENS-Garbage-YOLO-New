{
 "cells": [
  {
   "cell_type": "code",
   "execution_count": 7,
   "metadata": {},
   "outputs": [],
   "source": [
    "import os\n",
    "import shutil"
   ]
  },
  {
   "cell_type": "code",
   "execution_count": 8,
   "metadata": {},
   "outputs": [
    {
     "name": "stdout",
     "output_type": "stream",
     "text": [
      "Moved: images/all in one\\20240107_161243_tp00038 4_1772.jpg -> images/unmatched\\20240107_161243_tp00038 4_1772.jpg\n",
      "Move operation complete.\n"
     ]
    }
   ],
   "source": [
    "def move_images_without_json(image_dir, target_dir):\n",
    "    # Create the target directory if it doesn't exist\n",
    "    os.makedirs(target_dir, exist_ok=True)\n",
    "\n",
    "    # List all files in the directory\n",
    "    all_files = os.listdir(image_dir)\n",
    "\n",
    "    # Separate .jpg and .json files\n",
    "    image_files = [f for f in all_files if f.endswith(\".jpg\")]\n",
    "    json_files = {f.replace(\".json\", \"\") for f in all_files if f.endswith(\".json\")}\n",
    "\n",
    "    # Check for images without corresponding .json files\n",
    "    for image in image_files:\n",
    "        image_name = image.replace(\".jpg\", \"\")\n",
    "        if image_name not in json_files:\n",
    "            # If no matching .json file, move the image\n",
    "            source_path = os.path.join(image_dir, image)\n",
    "            target_path = os.path.join(target_dir, image)\n",
    "            shutil.move(source_path, target_path)\n",
    "            print(f\"Moved: {source_path} -> {target_path}\")\n",
    "\n",
    "    print(\"Move operation complete.\")\n",
    "\n",
    "\n",
    "# Usage example\n",
    "image_directory = \"images/all in one\"  # Replace with your directory path\n",
    "target_directory = \"images/unmatched 2\"  # Replace with the target directory path\n",
    "move_images_without_json(image_directory, target_directory)"
   ]
  }
 ],
 "metadata": {
  "kernelspec": {
   "display_name": ".venv",
   "language": "python",
   "name": "python3"
  },
  "language_info": {
   "codemirror_mode": {
    "name": "ipython",
    "version": 3
   },
   "file_extension": ".py",
   "mimetype": "text/x-python",
   "name": "python",
   "nbconvert_exporter": "python",
   "pygments_lexer": "ipython3",
   "version": "3.10.11"
  }
 },
 "nbformat": 4,
 "nbformat_minor": 2
}
