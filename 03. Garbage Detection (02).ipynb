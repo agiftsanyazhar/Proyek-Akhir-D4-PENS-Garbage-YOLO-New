{
 "cells": [
  {
   "cell_type": "code",
   "execution_count": 10,
   "metadata": {},
   "outputs": [],
   "source": [
    "from ultralytics import YOLO"
   ]
  },
  {
   "cell_type": "code",
   "execution_count": 11,
   "metadata": {},
   "outputs": [],
   "source": [
    "# Define training parameters\n",
    "task_name = \"detect\"\n",
    "model_path = \"runs/train/train11/weights/best.pt\"\n",
    "project_path = \"D:\\Kuliah\\D4 - PENS\\Proyek Akhir\\Project\\Program\\Garbage YOLO\"\n",
    "test_file_path = \"dataset/images/test/0bf92728ec3f36d070f06401719b5693.png\"\n",
    "conf = 0.25"
   ]
  },
  {
   "cell_type": "code",
   "execution_count": 12,
   "metadata": {},
   "outputs": [],
   "source": [
    "# Initialize the YOLO model\n",
    "model = YOLO(model_path)"
   ]
  },
  {
   "cell_type": "markdown",
   "metadata": {},
   "source": [
    "## Predictions with One Image/Video File"
   ]
  },
  {
   "cell_type": "code",
   "execution_count": 13,
   "metadata": {},
   "outputs": [
    {
     "name": "stdout",
     "output_type": "stream",
     "text": [
      "\n",
      "image 1/1 d:\\Kuliah\\D4 - PENS\\Proyek Akhir\\Project\\Program\\Garbage YOLO\\dataset\\images\\test\\0bf92728ec3f36d070f06401719b5693.png: 384x640 6 Papers, 2 Bottles, 3 Cartons, 2 Food Containers, 265.2ms\n",
      "Speed: 2.0ms preprocess, 265.2ms inference, 10.2ms postprocess per image at shape (1, 3, 384, 640)\n",
      "Results saved to \u001b[1mD:\\Kuliah\\D4 - PENS\\Proyek Akhir\\Project\\Program\\Garbage YOLO\\runs\\predict\\predict16\u001b[0m\n"
     ]
    },
    {
     "data": {
      "text/plain": [
       "[ultralytics.engine.results.Results object with attributes:\n",
       " \n",
       " boxes: ultralytics.engine.results.Boxes object\n",
       " keypoints: None\n",
       " masks: None\n",
       " names: {0: 'Other', 1: 'Plastic', 2: 'Straw', 3: 'Paper', 4: 'Tissue', 5: 'Bottle', 6: 'Tetra Pack', 7: 'Cigarette Pack', 8: 'Carton', 9: 'Food Container'}\n",
       " obb: None\n",
       " orig_img: array([[[119, 124, 133],\n",
       "         [128, 133, 142],\n",
       "         [133, 138, 147],\n",
       "         ...,\n",
       "         [ 70,  71,  51],\n",
       "         [ 61,  62,  42],\n",
       "         [ 83,  84,  64]],\n",
       " \n",
       "        [[123, 128, 137],\n",
       "         [134, 139, 148],\n",
       "         [142, 147, 156],\n",
       "         ...,\n",
       "         [ 65,  66,  46],\n",
       "         [ 63,  64,  44],\n",
       "         [ 91,  92,  72]],\n",
       " \n",
       "        [[140, 145, 154],\n",
       "         [150, 155, 164],\n",
       "         [157, 162, 171],\n",
       "         ...,\n",
       "         [ 59,  60,  40],\n",
       "         [ 64,  65,  45],\n",
       "         [101, 102,  82]],\n",
       " \n",
       "        ...,\n",
       " \n",
       "        [[ 82,  87,  90],\n",
       "         [ 82,  87,  90],\n",
       "         [110, 115, 118],\n",
       "         ...,\n",
       "         [ 93,  82,  84],\n",
       "         [ 92,  81,  83],\n",
       "         [ 89,  78,  80]],\n",
       " \n",
       "        [[ 86,  91,  94],\n",
       "         [ 97, 102, 105],\n",
       "         [122, 127, 130],\n",
       "         ...,\n",
       "         [ 93,  82,  84],\n",
       "         [ 93,  82,  84],\n",
       "         [ 91,  80,  82]],\n",
       " \n",
       "        [[ 99, 104, 107],\n",
       "         [121, 126, 129],\n",
       "         [144, 149, 152],\n",
       "         ...,\n",
       "         [ 93,  82,  84],\n",
       "         [ 94,  83,  85],\n",
       "         [ 92,  81,  83]]], dtype=uint8)\n",
       " orig_shape: (1080, 1920)\n",
       " path: 'd:\\\\Kuliah\\\\D4 - PENS\\\\Proyek Akhir\\\\Project\\\\Program\\\\Garbage YOLO\\\\dataset\\\\images\\\\test\\\\0bf92728ec3f36d070f06401719b5693.png'\n",
       " probs: None\n",
       " save_dir: 'D:\\\\Kuliah\\\\D4 - PENS\\\\Proyek Akhir\\\\Project\\\\Program\\\\Garbage YOLO\\\\runs\\\\predict\\\\predict16'\n",
       " speed: {'preprocess': 2.0165443420410156, 'inference': 265.17748832702637, 'postprocess': 10.17904281616211}]"
      ]
     },
     "execution_count": 13,
     "metadata": {},
     "output_type": "execute_result"
    }
   ],
   "source": [
    "model.predict(\n",
    "    project=project_path,\n",
    "    source=test_file_path,\n",
    "    name=\"runs/predict/predict\",\n",
    "    conf=0.25,\n",
    "    save=True,\n",
    ")"
   ]
  },
  {
   "cell_type": "markdown",
   "metadata": {},
   "source": [
    "## Tracking with One Image/Video File"
   ]
  },
  {
   "cell_type": "code",
   "execution_count": 14,
   "metadata": {},
   "outputs": [
    {
     "name": "stdout",
     "output_type": "stream",
     "text": [
      "\n",
      "image 1/1 d:\\Kuliah\\D4 - PENS\\Proyek Akhir\\Project\\Program\\Garbage YOLO\\dataset\\images\\test\\0bf92728ec3f36d070f06401719b5693.png: 384x640 6 Papers, 2 Bottles, 3 Cartons, 2 Food Containers, 13.7ms\n",
      "Speed: 2.6ms preprocess, 13.7ms inference, 2.1ms postprocess per image at shape (1, 3, 384, 640)\n",
      "Results saved to \u001b[1mD:\\Kuliah\\D4 - PENS\\Proyek Akhir\\Project\\Program\\Garbage YOLO\\runs\\track\\track4\u001b[0m\n"
     ]
    }
   ],
   "source": [
    "results = model.track(\n",
    "    project=project_path,\n",
    "    source=test_file_path,\n",
    "    name=\"runs/track/track\",\n",
    "    conf=0.25,\n",
    "    save=True,\n",
    ")"
   ]
  },
  {
   "cell_type": "code",
   "execution_count": 15,
   "metadata": {},
   "outputs": [],
   "source": [
    "# Define training parameters\n",
    "mode_path = \"yolov7/detect_or_track.py\"\n",
    "weight_path = \"yolov7/yolov7.pt\"\n",
    "test_source_path = \"footage/littering/20240107_151039_tp00036 3.mp4\"\n",
    "classes = \"0 1\""
   ]
  },
  {
   "cell_type": "code",
   "execution_count": 16,
   "metadata": {},
   "outputs": [
    {
     "name": "stderr",
     "output_type": "stream",
     "text": [
      "C:\\Users\\agift\\AppData\\Local\\Programs\\Python\\Python310\\python.exe: can't open file 'd:\\\\Kuliah\\\\D4 - PENS\\\\Proyek Akhir\\\\Project\\\\Program\\\\Garbage YOLO\\\\yolov7\\\\detect_or_track.py': [Errno 2] No such file or directory\n"
     ]
    }
   ],
   "source": [
    "!python {mode_path} --weights={weight_path} --no-trace --view-img --nosave --source \"{test_source_path}\" --show-fps --seed 2 --classes {classes} --track --show-track --unique-track-color"
   ]
  }
 ],
 "metadata": {
  "kernelspec": {
   "display_name": ".venv",
   "language": "python",
   "name": "python3"
  },
  "language_info": {
   "codemirror_mode": {
    "name": "ipython",
    "version": 3
   },
   "file_extension": ".py",
   "mimetype": "text/x-python",
   "name": "python",
   "nbconvert_exporter": "python",
   "pygments_lexer": "ipython3",
   "version": "3.10.11"
  },
  "orig_nbformat": 4
 },
 "nbformat": 4,
 "nbformat_minor": 2
}
