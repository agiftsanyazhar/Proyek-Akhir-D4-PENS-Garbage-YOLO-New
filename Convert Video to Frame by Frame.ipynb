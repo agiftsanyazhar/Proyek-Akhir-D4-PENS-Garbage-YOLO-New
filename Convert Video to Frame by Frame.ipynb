{
 "cells": [
  {
   "cell_type": "code",
   "execution_count": 1,
   "metadata": {},
   "outputs": [],
   "source": [
    "import cv2\n",
    "import os\n",
    "import glob\n",
    "import re"
   ]
  },
  {
   "cell_type": "code",
   "execution_count": 6,
   "metadata": {},
   "outputs": [],
   "source": [
    "# Path to the video file\n",
    "video_path = \"footage/testing/phone/VID_20241128_135114-2.mp4\"\n",
    "output_name = \"VID_20241128_135114-2\"\n",
    "output_folder = \"images/all in one\"\n",
    "\n",
    "# Create the output directory if it does not exist\n",
    "if not os.path.exists(output_folder):\n",
    "    os.makedirs(output_folder)"
   ]
  },
  {
   "cell_type": "code",
   "execution_count": 7,
   "metadata": {},
   "outputs": [],
   "source": [
    "# Find the highest count in the existing files\n",
    "existing_files = glob.glob(os.path.join(output_folder, \"*.jpg\"))\n",
    "counts = [int(re.search(r\"(\\d+)\\.jpg$\", file).group(1)) for file in existing_files]\n",
    "\n",
    "if len(counts) == 0:\n",
    "    start_count = 0\n",
    "else:\n",
    "    start_count = max(counts) + 1"
   ]
  },
  {
   "cell_type": "code",
   "execution_count": 8,
   "metadata": {},
   "outputs": [],
   "source": [
    "# # Open the video file\n",
    "# vidcap = cv2.VideoCapture(video_path)\n",
    "# if not vidcap.isOpened():\n",
    "#     print(\"Error: Could not open video.\")\n",
    "#     exit()\n",
    "\n",
    "# count = start_count\n",
    "# while vidcap.isOpened():\n",
    "#     success, image = vidcap.read()\n",
    "#     if not success:\n",
    "#         break\n",
    "\n",
    "#     # Construct the output file path\n",
    "#     output_file = os.path.join(output_folder, f\"{output_name}_{count}.jpg\")\n",
    "\n",
    "#     # Save the frame as an image file\n",
    "#     cv2.imwrite(output_file, image)\n",
    "\n",
    "#     count += 1\n",
    "\n",
    "# # Release the video capture object\n",
    "# vidcap.release()"
   ]
  },
  {
   "cell_type": "code",
   "execution_count": 9,
   "metadata": {},
   "outputs": [],
   "source": [
    "# Open the video file\n",
    "vidcap = cv2.VideoCapture(video_path)\n",
    "if not vidcap.isOpened():\n",
    "    print(\"Error: Could not open video.\")\n",
    "    exit()\n",
    "\n",
    "frame_interval = 3\n",
    "count = start_count\n",
    "frame_number = 0\n",
    "\n",
    "while vidcap.isOpened():\n",
    "    success, image = vidcap.read()\n",
    "    if not success:\n",
    "        break\n",
    "\n",
    "    if frame_number % frame_interval == 0:\n",
    "        output_file = os.path.join(output_folder, f\"{output_name}_{count}.jpg\")\n",
    "        cv2.imwrite(output_file, image)\n",
    "        count += 1\n",
    "\n",
    "    frame_number += 1\n",
    "\n",
    "# Release the video capture object\n",
    "vidcap.release()"
   ]
  }
 ],
 "metadata": {
  "kernelspec": {
   "display_name": ".venv",
   "language": "python",
   "name": "python3"
  },
  "language_info": {
   "codemirror_mode": {
    "name": "ipython",
    "version": 3
   },
   "file_extension": ".py",
   "mimetype": "text/x-python",
   "name": "python",
   "nbconvert_exporter": "python",
   "pygments_lexer": "ipython3",
   "version": "3.10.11"
  },
  "orig_nbformat": 4
 },
 "nbformat": 4,
 "nbformat_minor": 2
}
