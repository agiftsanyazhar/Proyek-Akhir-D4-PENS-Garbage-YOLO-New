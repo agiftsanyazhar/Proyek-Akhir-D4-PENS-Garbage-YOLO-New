{
 "cells": [
  {
   "cell_type": "code",
   "execution_count": 2,
   "metadata": {},
   "outputs": [],
   "source": [
    "import numpy as np\n",
    "from ultralytics import YOLO"
   ]
  },
  {
   "cell_type": "markdown",
   "metadata": {},
   "source": [
    "## 1. Experiment 1"
   ]
  },
  {
   "cell_type": "code",
   "execution_count": 14,
   "metadata": {},
   "outputs": [
    {
     "name": "stdout",
     "output_type": "stream",
     "text": [
      "Accuracy for each class:\n",
      "- Others: 0.80\n",
      "accuracy = (0.00 + 4.00) / (0.00 + 1.00 + 0.00 + 4.00)\n",
      "accuracy = 4.00 / 5.00\n",
      "\n",
      "- Plastic: 0.91\n",
      "accuracy = (0.93 + 3.60) / (0.93 + 0.07 + 0.40 + 3.60)\n",
      "accuracy = 4.53 / 5.00\n",
      "\n",
      "- Straw: 0.80\n",
      "accuracy = (0.00 + 4.00) / (0.00 + 1.00 + 0.00 + 4.00)\n",
      "accuracy = 4.00 / 5.00\n",
      "\n",
      "- Paper: 0.88\n",
      "accuracy = (0.98 + 3.40) / (0.98 + 0.02 + 0.60 + 3.40)\n",
      "accuracy = 4.38 / 5.00\n",
      "\n",
      "- background: 0.38\n",
      "accuracy = (0.00 + 1.91) / (0.00 + 1.00 + 2.09 + 1.91)\n",
      "accuracy = 1.91 / 5.00\n",
      "\n"
     ]
    }
   ],
   "source": [
    "# Confusion matrix dari data yang diberikan\n",
    "conf_matrix = np.array(\n",
    "    [\n",
    "        [0, 0, 0, 0, 0],\n",
    "        [0, 0.93, 0, 0, 0.40],\n",
    "        [0, 0, 0, 0, 0],\n",
    "        [0, 0, 0, 0.98, 0.60],\n",
    "        [1, 0.07, 1, 0.02, 0],\n",
    "    ]\n",
    ")\n",
    "\n",
    "class_names = [\"Others\", \"Plastic\", \"Straw\", \"Paper\", \"background\"]\n",
    "\n",
    "# Hitung akurasi untuk setiap kelas\n",
    "num_classes = conf_matrix.shape[0]\n",
    "\n",
    "print(\"Accuracy for each class:\")\n",
    "for i in range(num_classes):\n",
    "    TP = conf_matrix[i, i]\n",
    "    FP = np.sum(conf_matrix[:, i]) - TP\n",
    "    FN = np.sum(conf_matrix[i, :]) - TP\n",
    "    TN = np.sum(conf_matrix) - (TP + FP + FN)\n",
    "\n",
    "    if (TP + FP + FN + TN) > 0:  # To avoid division by zero\n",
    "        accuracy = (TP + TN) / (TP + FP + FN + TN)\n",
    "    else:\n",
    "        accuracy = 0  # If all are zero, accuracy is undefined\n",
    "\n",
    "    print(f\"- {class_names[i]}: {accuracy:.2f}\")\n",
    "    print(\n",
    "        f\"accuracy = ({TP:.2f} + {TN:.2f}) / ({TP:.2f} + {FP:.2f} + {FN:.2f} + {TN:.2f})\"\n",
    "    )\n",
    "    print(f\"accuracy = {TP + TN:.2f} / {TP + FP + FN + TN:.2f}\\n\")"
   ]
  },
  {
   "cell_type": "code",
   "execution_count": 34,
   "metadata": {},
   "outputs": [
    {
     "name": "stdout",
     "output_type": "stream",
     "text": [
      "Ultralytics YOLOv8.2.48  Python-3.10.11 torch-2.3.0+cu118 CUDA:0 (NVIDIA GeForce RTX 4050 Laptop GPU, 6140MiB)\n",
      "Model summary (fused): 168 layers, 3006428 parameters, 0 gradients, 8.1 GFLOPs\n"
     ]
    },
    {
     "name": "stderr",
     "output_type": "stream",
     "text": [
      "\u001b[34m\u001b[1mval: \u001b[0mScanning D:\\Kuliah\\D4 - PENS\\Proyek Akhir\\Project\\Program\\Garbage YOLO\\dataset\\labels\\val.cache... 201 images, 0 backgrounds, 0 corrupt: 100%|██████████| 201/201 [00:00<?, ?it/s]\n",
      "                 Class     Images  Instances      Box(P          R      mAP50  mAP50-95):  69%|██████▉   | 9/13 [00:04<00:01,  2.18it/s]\n"
     ]
    },
    {
     "ename": "IndexError",
     "evalue": "index 5 is out of bounds for axis 1 with size 5",
     "output_type": "error",
     "traceback": [
      "\u001b[1;31m---------------------------------------------------------------------------\u001b[0m",
      "\u001b[1;31mIndexError\u001b[0m                                Traceback (most recent call last)",
      "Cell \u001b[1;32mIn[34], line 5\u001b[0m\n\u001b[0;32m      2\u001b[0m model \u001b[38;5;241m=\u001b[39m YOLO(\u001b[38;5;124m\"\u001b[39m\u001b[38;5;124mruns/train/train2/weights/best.pt\u001b[39m\u001b[38;5;124m\"\u001b[39m)\n\u001b[0;32m      4\u001b[0m \u001b[38;5;66;03m# Run validation to get metrics and save results to a custom directory\u001b[39;00m\n\u001b[1;32m----> 5\u001b[0m results \u001b[38;5;241m=\u001b[39m \u001b[43mmodel\u001b[49m\u001b[38;5;241;43m.\u001b[39;49m\u001b[43mval\u001b[49m\u001b[43m(\u001b[49m\n\u001b[0;32m      6\u001b[0m \u001b[43m    \u001b[49m\u001b[43msave_dir\u001b[49m\u001b[38;5;241;43m=\u001b[39;49m\u001b[38;5;124;43m\"\u001b[39;49m\u001b[38;5;124;43md:/Kuliah/D4 - PENS/Proyek Akhir/Project/Program/Garbage YOLO/runs/detect/val\u001b[39;49m\u001b[38;5;124;43m\"\u001b[39;49m\n\u001b[0;32m      7\u001b[0m \u001b[43m)\u001b[49m\n\u001b[0;32m      9\u001b[0m \u001b[38;5;66;03m# Print the results dictionary\u001b[39;00m\n\u001b[0;32m     10\u001b[0m \u001b[38;5;28mprint\u001b[39m(results\u001b[38;5;241m.\u001b[39mresults_dict)\n",
      "File \u001b[1;32md:\\Kuliah\\D4 - PENS\\Proyek Akhir\\Project\\Program\\Garbage YOLO\\.venv\\lib\\site-packages\\ultralytics\\engine\\model.py:517\u001b[0m, in \u001b[0;36mModel.val\u001b[1;34m(self, validator, **kwargs)\u001b[0m\n\u001b[0;32m    514\u001b[0m args \u001b[38;5;241m=\u001b[39m {\u001b[38;5;241m*\u001b[39m\u001b[38;5;241m*\u001b[39m\u001b[38;5;28mself\u001b[39m\u001b[38;5;241m.\u001b[39moverrides, \u001b[38;5;241m*\u001b[39m\u001b[38;5;241m*\u001b[39mcustom, \u001b[38;5;241m*\u001b[39m\u001b[38;5;241m*\u001b[39mkwargs, \u001b[38;5;124m\"\u001b[39m\u001b[38;5;124mmode\u001b[39m\u001b[38;5;124m\"\u001b[39m: \u001b[38;5;124m\"\u001b[39m\u001b[38;5;124mval\u001b[39m\u001b[38;5;124m\"\u001b[39m}  \u001b[38;5;66;03m# highest priority args on the right\u001b[39;00m\n\u001b[0;32m    516\u001b[0m validator \u001b[38;5;241m=\u001b[39m (validator \u001b[38;5;129;01mor\u001b[39;00m \u001b[38;5;28mself\u001b[39m\u001b[38;5;241m.\u001b[39m_smart_load(\u001b[38;5;124m\"\u001b[39m\u001b[38;5;124mvalidator\u001b[39m\u001b[38;5;124m\"\u001b[39m))(args\u001b[38;5;241m=\u001b[39margs, _callbacks\u001b[38;5;241m=\u001b[39m\u001b[38;5;28mself\u001b[39m\u001b[38;5;241m.\u001b[39mcallbacks)\n\u001b[1;32m--> 517\u001b[0m \u001b[43mvalidator\u001b[49m\u001b[43m(\u001b[49m\u001b[43mmodel\u001b[49m\u001b[38;5;241;43m=\u001b[39;49m\u001b[38;5;28;43mself\u001b[39;49m\u001b[38;5;241;43m.\u001b[39;49m\u001b[43mmodel\u001b[49m\u001b[43m)\u001b[49m\n\u001b[0;32m    518\u001b[0m \u001b[38;5;28mself\u001b[39m\u001b[38;5;241m.\u001b[39mmetrics \u001b[38;5;241m=\u001b[39m validator\u001b[38;5;241m.\u001b[39mmetrics\n\u001b[0;32m    519\u001b[0m \u001b[38;5;28;01mreturn\u001b[39;00m validator\u001b[38;5;241m.\u001b[39mmetrics\n",
      "File \u001b[1;32md:\\Kuliah\\D4 - PENS\\Proyek Akhir\\Project\\Program\\Garbage YOLO\\.venv\\lib\\site-packages\\torch\\utils\\_contextlib.py:115\u001b[0m, in \u001b[0;36mcontext_decorator.<locals>.decorate_context\u001b[1;34m(*args, **kwargs)\u001b[0m\n\u001b[0;32m    112\u001b[0m \u001b[38;5;129m@functools\u001b[39m\u001b[38;5;241m.\u001b[39mwraps(func)\n\u001b[0;32m    113\u001b[0m \u001b[38;5;28;01mdef\u001b[39;00m \u001b[38;5;21mdecorate_context\u001b[39m(\u001b[38;5;241m*\u001b[39margs, \u001b[38;5;241m*\u001b[39m\u001b[38;5;241m*\u001b[39mkwargs):\n\u001b[0;32m    114\u001b[0m     \u001b[38;5;28;01mwith\u001b[39;00m ctx_factory():\n\u001b[1;32m--> 115\u001b[0m         \u001b[38;5;28;01mreturn\u001b[39;00m func(\u001b[38;5;241m*\u001b[39margs, \u001b[38;5;241m*\u001b[39m\u001b[38;5;241m*\u001b[39mkwargs)\n",
      "File \u001b[1;32md:\\Kuliah\\D4 - PENS\\Proyek Akhir\\Project\\Program\\Garbage YOLO\\.venv\\lib\\site-packages\\ultralytics\\engine\\validator.py:189\u001b[0m, in \u001b[0;36mBaseValidator.__call__\u001b[1;34m(self, trainer, model)\u001b[0m\n\u001b[0;32m    186\u001b[0m \u001b[38;5;28;01mwith\u001b[39;00m dt[\u001b[38;5;241m3\u001b[39m]:\n\u001b[0;32m    187\u001b[0m     preds \u001b[38;5;241m=\u001b[39m \u001b[38;5;28mself\u001b[39m\u001b[38;5;241m.\u001b[39mpostprocess(preds)\n\u001b[1;32m--> 189\u001b[0m \u001b[38;5;28;43mself\u001b[39;49m\u001b[38;5;241;43m.\u001b[39;49m\u001b[43mupdate_metrics\u001b[49m\u001b[43m(\u001b[49m\u001b[43mpreds\u001b[49m\u001b[43m,\u001b[49m\u001b[43m \u001b[49m\u001b[43mbatch\u001b[49m\u001b[43m)\u001b[49m\n\u001b[0;32m    190\u001b[0m \u001b[38;5;28;01mif\u001b[39;00m \u001b[38;5;28mself\u001b[39m\u001b[38;5;241m.\u001b[39margs\u001b[38;5;241m.\u001b[39mplots \u001b[38;5;129;01mand\u001b[39;00m batch_i \u001b[38;5;241m<\u001b[39m \u001b[38;5;241m3\u001b[39m:\n\u001b[0;32m    191\u001b[0m     \u001b[38;5;28mself\u001b[39m\u001b[38;5;241m.\u001b[39mplot_val_samples(batch, batch_i)\n",
      "File \u001b[1;32md:\\Kuliah\\D4 - PENS\\Proyek Akhir\\Project\\Program\\Garbage YOLO\\.venv\\lib\\site-packages\\ultralytics\\models\\yolo\\detect\\val.py:154\u001b[0m, in \u001b[0;36mDetectionValidator.update_metrics\u001b[1;34m(self, preds, batch)\u001b[0m\n\u001b[0;32m    152\u001b[0m     stat[\u001b[38;5;124m\"\u001b[39m\u001b[38;5;124mtp\u001b[39m\u001b[38;5;124m\"\u001b[39m] \u001b[38;5;241m=\u001b[39m \u001b[38;5;28mself\u001b[39m\u001b[38;5;241m.\u001b[39m_process_batch(predn, bbox, \u001b[38;5;28mcls\u001b[39m)\n\u001b[0;32m    153\u001b[0m     \u001b[38;5;28;01mif\u001b[39;00m \u001b[38;5;28mself\u001b[39m\u001b[38;5;241m.\u001b[39margs\u001b[38;5;241m.\u001b[39mplots:\n\u001b[1;32m--> 154\u001b[0m         \u001b[38;5;28;43mself\u001b[39;49m\u001b[38;5;241;43m.\u001b[39;49m\u001b[43mconfusion_matrix\u001b[49m\u001b[38;5;241;43m.\u001b[39;49m\u001b[43mprocess_batch\u001b[49m\u001b[43m(\u001b[49m\u001b[43mpredn\u001b[49m\u001b[43m,\u001b[49m\u001b[43m \u001b[49m\u001b[43mbbox\u001b[49m\u001b[43m,\u001b[49m\u001b[43m \u001b[49m\u001b[38;5;28;43mcls\u001b[39;49m\u001b[43m)\u001b[49m\n\u001b[0;32m    155\u001b[0m \u001b[38;5;28;01mfor\u001b[39;00m k \u001b[38;5;129;01min\u001b[39;00m \u001b[38;5;28mself\u001b[39m\u001b[38;5;241m.\u001b[39mstats\u001b[38;5;241m.\u001b[39mkeys():\n\u001b[0;32m    156\u001b[0m     \u001b[38;5;28mself\u001b[39m\u001b[38;5;241m.\u001b[39mstats[k]\u001b[38;5;241m.\u001b[39mappend(stat[k])\n",
      "File \u001b[1;32md:\\Kuliah\\D4 - PENS\\Proyek Akhir\\Project\\Program\\Garbage YOLO\\.venv\\lib\\site-packages\\ultralytics\\utils\\metrics.py:369\u001b[0m, in \u001b[0;36mConfusionMatrix.process_batch\u001b[1;34m(self, detections, gt_bboxes, gt_cls)\u001b[0m\n\u001b[0;32m    367\u001b[0m         \u001b[38;5;28mself\u001b[39m\u001b[38;5;241m.\u001b[39mmatrix[detection_classes[m1[j]], gc] \u001b[38;5;241m+\u001b[39m\u001b[38;5;241m=\u001b[39m \u001b[38;5;241m1\u001b[39m  \u001b[38;5;66;03m# correct\u001b[39;00m\n\u001b[0;32m    368\u001b[0m     \u001b[38;5;28;01melse\u001b[39;00m:\n\u001b[1;32m--> 369\u001b[0m         \u001b[38;5;28mself\u001b[39m\u001b[38;5;241m.\u001b[39mmatrix[\u001b[38;5;28mself\u001b[39m\u001b[38;5;241m.\u001b[39mnc, gc] \u001b[38;5;241m+\u001b[39m\u001b[38;5;241m=\u001b[39m \u001b[38;5;241m1\u001b[39m  \u001b[38;5;66;03m# true background\u001b[39;00m\n\u001b[0;32m    371\u001b[0m \u001b[38;5;28;01mif\u001b[39;00m n:\n\u001b[0;32m    372\u001b[0m     \u001b[38;5;28;01mfor\u001b[39;00m i, dc \u001b[38;5;129;01min\u001b[39;00m \u001b[38;5;28menumerate\u001b[39m(detection_classes):\n",
      "\u001b[1;31mIndexError\u001b[0m: index 5 is out of bounds for axis 1 with size 5"
     ]
    }
   ],
   "source": [
    "# Load your trained classification model\n",
    "model = YOLO(\"runs/train/train5/weights/best.pt\")\n",
    "\n",
    "# Run validation to get metrics and save results to a custom directory\n",
    "results = model.val(\n",
    "    project=\"D:\\Kuliah\\D4 - PENS\\Proyek Akhir\\Project\\Program\\Garbage YOLO\",\n",
    "    name=\"runs/val/val\",\n",
    "    save=False,\n",
    ")\n",
    "\n",
    "# Print the results dictionary\n",
    "print(results.results_dict)"
   ]
  },
  {
   "cell_type": "markdown",
   "metadata": {},
   "source": [
    "## 2. Experiment 2"
   ]
  },
  {
   "cell_type": "code",
   "execution_count": 15,
   "metadata": {},
   "outputs": [
    {
     "name": "stdout",
     "output_type": "stream",
     "text": [
      "Accuracy for each class:\n",
      "- Others: 0.80\n",
      "accuracy = (0.00 + 4.00) / (0.00 + 1.00 + 0.00 + 4.00)\n",
      "accuracy = 4.00 / 5.00\n",
      "\n",
      "- Plastic: 0.84\n",
      "accuracy = (0.82 + 3.40) / (0.82 + 0.18 + 0.60 + 3.40)\n",
      "accuracy = 4.22 / 5.00\n",
      "\n",
      "- Straw: 0.80\n",
      "accuracy = (0.00 + 4.00) / (0.00 + 1.00 + 0.00 + 4.00)\n",
      "accuracy = 4.00 / 5.00\n",
      "\n",
      "- Paper: 0.91\n",
      "accuracy = (0.93 + 3.60) / (0.93 + 0.07 + 0.40 + 3.60)\n",
      "accuracy = 4.53 / 5.00\n",
      "\n",
      "- background: 0.35\n",
      "accuracy = (0.00 + 1.75) / (0.00 + 1.00 + 2.25 + 1.75)\n",
      "accuracy = 1.75 / 5.00\n",
      "\n"
     ]
    }
   ],
   "source": [
    "# Confusion matrix dari data yang diberikan\n",
    "conf_matrix = np.array(\n",
    "    [\n",
    "        [0, 0, 0, 0, 0],\n",
    "        [0, 0.82, 0, 0, 0.60],\n",
    "        [0, 0, 0, 0, 0],\n",
    "        [0, 0, 0, 0.93, 0.40],\n",
    "        [1, 0.18, 1, 0.07, 0],\n",
    "    ]\n",
    ")\n",
    "\n",
    "class_names = [\"Others\", \"Plastic\", \"Straw\", \"Paper\", \"background\"]\n",
    "\n",
    "# Hitung akurasi untuk setiap kelas\n",
    "num_classes = conf_matrix.shape[0]\n",
    "\n",
    "print(\"Accuracy for each class:\")\n",
    "for i in range(num_classes):\n",
    "    TP = conf_matrix[i, i]\n",
    "    FP = np.sum(conf_matrix[:, i]) - TP\n",
    "    FN = np.sum(conf_matrix[i, :]) - TP\n",
    "    TN = np.sum(conf_matrix) - (TP + FP + FN)\n",
    "\n",
    "    if (TP + FP + FN + TN) > 0:  # To avoid division by zero\n",
    "        accuracy = (TP + TN) / (TP + FP + FN + TN)\n",
    "    else:\n",
    "        accuracy = 0  # If all are zero, accuracy is undefined\n",
    "\n",
    "    print(f\"- {class_names[i]}: {accuracy:.2f}\")\n",
    "    print(\n",
    "        f\"accuracy = ({TP:.2f} + {TN:.2f}) / ({TP:.2f} + {FP:.2f} + {FN:.2f} + {TN:.2f})\"\n",
    "    )\n",
    "    print(f\"accuracy = {TP + TN:.2f} / {TP + FP + FN + TN:.2f}\\n\")"
   ]
  },
  {
   "cell_type": "code",
   "execution_count": null,
   "metadata": {},
   "outputs": [],
   "source": [
    "# Load your trained classification model\n",
    "model = YOLO(\"runs/train/train5/weights/best.pt\")\n",
    "\n",
    "# Run validation to get metrics and save results to a custom directory\n",
    "results = model.val(\n",
    "    project=\"D:\\Kuliah\\D4 - PENS\\Proyek Akhir\\Project\\Program\\Garbage YOLO\",\n",
    "    name=\"runs/val/val\",\n",
    "    save=False,\n",
    ")\n",
    "\n",
    "# Print the results dictionary\n",
    "print(results.results_dict)"
   ]
  },
  {
   "cell_type": "markdown",
   "metadata": {},
   "source": [
    "## 3. Experiment 3"
   ]
  },
  {
   "cell_type": "code",
   "execution_count": 16,
   "metadata": {},
   "outputs": [
    {
     "name": "stdout",
     "output_type": "stream",
     "text": [
      "Accuracy for each class:\n",
      "- Others: 0.80\n",
      "accuracy = (0.00 + 4.00) / (0.00 + 1.00 + 0.00 + 4.00)\n",
      "accuracy = 4.00 / 5.00\n",
      "\n",
      "- Plastic: 0.76\n",
      "accuracy = (0.82 + 3.00) / (0.82 + 0.18 + 1.00 + 3.00)\n",
      "accuracy = 3.82 / 5.00\n",
      "\n",
      "- Straw: 0.80\n",
      "accuracy = (0.00 + 4.00) / (0.00 + 1.00 + 0.00 + 4.00)\n",
      "accuracy = 4.00 / 5.00\n",
      "\n",
      "- Paper: 0.99\n",
      "accuracy = (0.96 + 4.00) / (0.96 + 0.04 + 0.00 + 4.00)\n",
      "accuracy = 4.96 / 5.00\n",
      "\n",
      "- background: 0.36\n",
      "accuracy = (0.00 + 1.78) / (0.00 + 1.00 + 2.22 + 1.78)\n",
      "accuracy = 1.78 / 5.00\n",
      "\n"
     ]
    }
   ],
   "source": [
    "# Confusion matrix dari data yang diberikan\n",
    "conf_matrix = np.array(\n",
    "    [\n",
    "        [0, 0, 0, 0, 0],\n",
    "        [0, 0.82, 0, 0, 1],\n",
    "        [0, 0, 0, 0, 0],\n",
    "        [0, 0, 0, 0.96, 0],\n",
    "        [1, 0.18, 1, 0.04, 0],\n",
    "    ]\n",
    ")\n",
    "\n",
    "class_names = [\"Others\", \"Plastic\", \"Straw\", \"Paper\", \"background\"]\n",
    "\n",
    "# Hitung akurasi untuk setiap kelas\n",
    "num_classes = conf_matrix.shape[0]\n",
    "\n",
    "print(\"Accuracy for each class:\")\n",
    "for i in range(num_classes):\n",
    "    TP = conf_matrix[i, i]\n",
    "    FP = np.sum(conf_matrix[:, i]) - TP\n",
    "    FN = np.sum(conf_matrix[i, :]) - TP\n",
    "    TN = np.sum(conf_matrix) - (TP + FP + FN)\n",
    "\n",
    "    if (TP + FP + FN + TN) > 0:  # To avoid division by zero\n",
    "        accuracy = (TP + TN) / (TP + FP + FN + TN)\n",
    "    else:\n",
    "        accuracy = 0  # If all are zero, accuracy is undefined\n",
    "\n",
    "    print(f\"- {class_names[i]}: {accuracy:.2f}\")\n",
    "    print(\n",
    "        f\"accuracy = ({TP:.2f} + {TN:.2f}) / ({TP:.2f} + {FP:.2f} + {FN:.2f} + {TN:.2f})\"\n",
    "    )\n",
    "    print(f\"accuracy = {TP + TN:.2f} / {TP + FP + FN + TN:.2f}\\n\")"
   ]
  },
  {
   "cell_type": "code",
   "execution_count": null,
   "metadata": {},
   "outputs": [],
   "source": [
    "# Load your trained classification model\n",
    "model = YOLO(\"runs/train/train5/weights/best.pt\")\n",
    "\n",
    "# Run validation to get metrics and save results to a custom directory\n",
    "results = model.val(\n",
    "    project=\"D:\\Kuliah\\D4 - PENS\\Proyek Akhir\\Project\\Program\\Garbage YOLO\",\n",
    "    name=\"runs/val/val\",\n",
    "    save=False,\n",
    ")\n",
    "\n",
    "# Print the results dictionary\n",
    "print(results.results_dict)"
   ]
  },
  {
   "cell_type": "markdown",
   "metadata": {},
   "source": [
    "## 4. Experiment 4"
   ]
  },
  {
   "cell_type": "code",
   "execution_count": 17,
   "metadata": {},
   "outputs": [
    {
     "name": "stdout",
     "output_type": "stream",
     "text": [
      "Accuracy for each class:\n",
      "- Others: 0.94\n",
      "accuracy = (0.50 + 7.99) / (0.50 + 0.50 + 0.00 + 7.99)\n",
      "accuracy = 8.49 / 8.99\n",
      "\n",
      "- Plastic: 0.90\n",
      "accuracy = (0.82 + 7.28) / (0.82 + 0.18 + 0.71 + 7.28)\n",
      "accuracy = 8.10 / 8.99\n",
      "\n",
      "- Straw: 0.92\n",
      "accuracy = (0.26 + 7.99) / (0.26 + 0.74 + 0.00 + 7.99)\n",
      "accuracy = 8.25 / 8.99\n",
      "\n",
      "- Paper: 1.00\n",
      "accuracy = (1.00 + 7.99) / (1.00 + 0.00 + 0.00 + 7.99)\n",
      "accuracy = 8.99 / 8.99\n",
      "\n",
      "- Tissue: 0.98\n",
      "accuracy = (1.00 + 7.85) / (1.00 + 0.00 + 0.14 + 7.85)\n",
      "accuracy = 8.85 / 8.99\n",
      "\n",
      "- Bottle: 1.00\n",
      "accuracy = (1.00 + 7.99) / (1.00 + 0.00 + 0.00 + 7.99)\n",
      "accuracy = 8.99 / 8.99\n",
      "\n",
      "- Beverage Carton Box: 0.95\n",
      "accuracy = (0.56 + 7.99) / (0.56 + 0.44 + 0.00 + 7.99)\n",
      "accuracy = 8.55 / 8.99\n",
      "\n",
      "- Cigarette Pack: 0.95\n",
      "accuracy = (0.65 + 7.85) / (0.65 + 0.35 + 0.14 + 7.85)\n",
      "accuracy = 8.50 / 8.99\n",
      "\n",
      "- background: 0.64\n",
      "accuracy = (0.00 + 5.79) / (0.00 + 0.99 + 2.21 + 5.79)\n",
      "accuracy = 5.79 / 8.99\n",
      "\n"
     ]
    }
   ],
   "source": [
    "# Confusion matrix dari data yang diberikan\n",
    "conf_matrix = np.array(\n",
    "    [\n",
    "        [0.5, 0, 0, 0, 0, 0, 0, 0, 0],\n",
    "        [0, 0.82, 0, 0, 0, 0, 0, 0, 0.71],\n",
    "        [0, 0, 0.26, 0, 0, 0, 0, 0, 0],\n",
    "        [0, 0, 0, 1, 0, 0, 0, 0, 0],\n",
    "        [0, 0, 0, 0, 1, 0, 0, 0, 0.14],\n",
    "        [0, 0, 0, 0, 0, 1, 0, 0, 0],\n",
    "        [0, 0, 0, 0, 0, 0, 0.56, 0, 0],\n",
    "        [0, 0, 0, 0, 0, 0, 0, 0.65, 0.14],\n",
    "        [0.5, 0.18, 0.74, 0, 0, 0, 0.44, 0.35, 0],\n",
    "    ]\n",
    ")\n",
    "\n",
    "class_names = [\n",
    "    \"Others\",\n",
    "    \"Plastic\",\n",
    "    \"Straw\",\n",
    "    \"Paper\",\n",
    "    \"Tissue\",\n",
    "    \"Bottle\",\n",
    "    \"Beverage Carton Box\",\n",
    "    \"Cigarette Pack\",\n",
    "    \"background\",\n",
    "]\n",
    "\n",
    "# Hitung akurasi untuk setiap kelas\n",
    "num_classes = conf_matrix.shape[0]\n",
    "\n",
    "print(\"Accuracy for each class:\")\n",
    "for i in range(num_classes):\n",
    "    TP = conf_matrix[i, i]\n",
    "    FP = np.sum(conf_matrix[:, i]) - TP\n",
    "    FN = np.sum(conf_matrix[i, :]) - TP\n",
    "    TN = np.sum(conf_matrix) - (TP + FP + FN)\n",
    "\n",
    "    if (TP + FP + FN + TN) > 0:  # To avoid division by zero\n",
    "        accuracy = (TP + TN) / (TP + FP + FN + TN)\n",
    "    else:\n",
    "        accuracy = 0  # If all are zero, accuracy is undefined\n",
    "\n",
    "    print(f\"- {class_names[i]}: {accuracy:.2f}\")\n",
    "    print(\n",
    "        f\"accuracy = ({TP:.2f} + {TN:.2f}) / ({TP:.2f} + {FP:.2f} + {FN:.2f} + {TN:.2f})\"\n",
    "    )\n",
    "    print(f\"accuracy = {TP + TN:.2f} / {TP + FP + FN + TN:.2f}\\n\")"
   ]
  },
  {
   "cell_type": "code",
   "execution_count": 4,
   "metadata": {},
   "outputs": [
    {
     "name": "stdout",
     "output_type": "stream",
     "text": [
      "Ultralytics YOLOv8.2.48  Python-3.10.11 torch-2.3.0+cu118 CUDA:0 (NVIDIA GeForce RTX 4050 Laptop GPU, 6140MiB)\n",
      "Model summary (fused): 168 layers, 3007208 parameters, 0 gradients, 8.1 GFLOPs\n"
     ]
    },
    {
     "name": "stderr",
     "output_type": "stream",
     "text": [
      "\u001b[34m\u001b[1mval: \u001b[0mScanning D:\\Kuliah\\D4 - PENS\\Proyek Akhir\\Project\\Program\\Garbage YOLO\\dataset\\labels\\val.cache... 201 images, 0 backgrounds, 0 corrupt: 100%|██████████| 201/201 [00:00<?, ?it/s]\n",
      "                 Class     Images  Instances      Box(P          R      mAP50  mAP50-95): 100%|██████████| 13/13 [00:04<00:00,  2.89it/s]\n"
     ]
    },
    {
     "name": "stdout",
     "output_type": "stream",
     "text": [
      "                   all        201        448      0.914      0.749      0.825      0.607\n",
      "                Others         17         26      0.974      0.538       0.58      0.472\n",
      "               Plastic        167        281      0.938      0.808       0.92      0.752\n",
      "                 Straw         39         47      0.918      0.298       0.37      0.265\n",
      "                 Paper         19         19      0.954          1      0.995      0.833\n",
      "                Tissue          9          9      0.852          1      0.995      0.714\n",
      "                Bottle          6          6      0.882          1      0.995      0.789\n",
      "   Beverage Carton Box         17         34      0.959      0.588      0.827      0.472\n",
      "        Cigarette Pack         17         26      0.832      0.763      0.922      0.559\n",
      "Speed: 0.4ms preprocess, 3.8ms inference, 0.0ms loss, 1.6ms postprocess per image\n",
      "Results saved to \u001b[1mD:\\Kuliah\\D4 - PENS\\Proyek Akhir\\Project\\Program\\Garbage YOLO\\runs\\val\\val\u001b[0m\n",
      "{'metrics/precision(B)': 0.9136962556228407, 'metrics/recall(B)': 0.7494043857892443, 'metrics/mAP50(B)': 0.8253648647011468, 'metrics/mAP50-95(B)': 0.6071131725666572, 'fitness': 0.6289383417801062}\n"
     ]
    }
   ],
   "source": [
    "# Load your trained classification model\n",
    "model = YOLO(\"runs/train/train5/weights/best.pt\")\n",
    "\n",
    "# Run validation to get metrics and save results to a custom directory\n",
    "results = model.val(\n",
    "    project=\"D:\\Kuliah\\D4 - PENS\\Proyek Akhir\\Project\\Program\\Garbage YOLO\",\n",
    "    name=\"runs/val/val\",\n",
    "    save=False,\n",
    ")\n",
    "\n",
    "# Print the results dictionary\n",
    "print(results.results_dict)"
   ]
  }
 ],
 "metadata": {
  "kernelspec": {
   "display_name": ".venv",
   "language": "python",
   "name": "python3"
  },
  "language_info": {
   "codemirror_mode": {
    "name": "ipython",
    "version": 3
   },
   "file_extension": ".py",
   "mimetype": "text/x-python",
   "name": "python",
   "nbconvert_exporter": "python",
   "pygments_lexer": "ipython3",
   "version": "3.10.11"
  }
 },
 "nbformat": 4,
 "nbformat_minor": 2
}
